{
 "cells": [
  {
   "cell_type": "code",
   "execution_count": 27,
   "metadata": {},
   "outputs": [],
   "source": [
    "import pandas as pd\n",
    "import requests\n",
    "import gmaps\n",
    "from config import g_key\n",
    "import gmaps.datasets"
   ]
  },
  {
   "cell_type": "code",
   "execution_count": 28,
   "metadata": {},
   "outputs": [],
   "source": [
    "gmaps.configure(api_key=g_key)"
   ]
  },
  {
   "cell_type": "code",
   "execution_count": 29,
   "metadata": {},
   "outputs": [],
   "source": [
    "#load file\n",
    "file_to_load = \"Path/WeatherPy_vacation.csv\""
   ]
  },
  {
   "cell_type": "code",
   "execution_count": 30,
   "metadata": {},
   "outputs": [],
   "source": [
    "file =pd.read_csv(file_to_load)"
   ]
  },
  {
   "cell_type": "code",
   "execution_count": 31,
   "metadata": {},
   "outputs": [],
   "source": [
    "#create a new DataFrame\n",
    "itinerary_df = pd.DataFrame(file)"
   ]
  },
  {
   "cell_type": "code",
   "execution_count": 32,
   "metadata": {},
   "outputs": [],
   "source": [
    "itinerary_df.drop(itinerary_df.filter(regex=\"Unname\"),axis=1, inplace=True)"
   ]
  },
  {
   "cell_type": "code",
   "execution_count": 33,
   "metadata": {},
   "outputs": [
    {
     "data": {
      "text/html": [
       "<div>\n",
       "<style scoped>\n",
       "    .dataframe tbody tr th:only-of-type {\n",
       "        vertical-align: middle;\n",
       "    }\n",
       "\n",
       "    .dataframe tbody tr th {\n",
       "        vertical-align: top;\n",
       "    }\n",
       "\n",
       "    .dataframe thead th {\n",
       "        text-align: right;\n",
       "    }\n",
       "</style>\n",
       "<table border=\"1\" class=\"dataframe\">\n",
       "  <thead>\n",
       "    <tr style=\"text-align: right;\">\n",
       "      <th></th>\n",
       "      <th>City</th>\n",
       "      <th>Country</th>\n",
       "      <th>Max Temp</th>\n",
       "      <th>Lat</th>\n",
       "      <th>Lng</th>\n",
       "      <th>Weather Description</th>\n",
       "      <th>Hotel Name</th>\n",
       "    </tr>\n",
       "  </thead>\n",
       "  <tbody>\n",
       "    <tr>\n",
       "      <th>0</th>\n",
       "      <td>Fairbanks</td>\n",
       "      <td>US</td>\n",
       "      <td>25.00</td>\n",
       "      <td>64.84</td>\n",
       "      <td>-147.72</td>\n",
       "      <td>light snow</td>\n",
       "      <td>Westmark Fairbanks Hotel &amp; Conference Center</td>\n",
       "    </tr>\n",
       "    <tr>\n",
       "      <th>1</th>\n",
       "      <td>Husavik</td>\n",
       "      <td>IS</td>\n",
       "      <td>28.40</td>\n",
       "      <td>66.04</td>\n",
       "      <td>-17.34</td>\n",
       "      <td>broken clouds</td>\n",
       "      <td>Bjarnabúð</td>\n",
       "    </tr>\n",
       "    <tr>\n",
       "      <th>2</th>\n",
       "      <td>Yarmolyntsi</td>\n",
       "      <td>UA</td>\n",
       "      <td>30.00</td>\n",
       "      <td>49.19</td>\n",
       "      <td>26.84</td>\n",
       "      <td>broken clouds</td>\n",
       "      <td>NaN</td>\n",
       "    </tr>\n",
       "    <tr>\n",
       "      <th>3</th>\n",
       "      <td>Kodiak</td>\n",
       "      <td>US</td>\n",
       "      <td>33.80</td>\n",
       "      <td>57.79</td>\n",
       "      <td>-152.41</td>\n",
       "      <td>clear sky</td>\n",
       "      <td>Mission Lake Bed and Breakfast</td>\n",
       "    </tr>\n",
       "    <tr>\n",
       "      <th>4</th>\n",
       "      <td>Albany</td>\n",
       "      <td>US</td>\n",
       "      <td>33.01</td>\n",
       "      <td>42.60</td>\n",
       "      <td>-73.97</td>\n",
       "      <td>overcast clouds</td>\n",
       "      <td>NaN</td>\n",
       "    </tr>\n",
       "    <tr>\n",
       "      <th>...</th>\n",
       "      <td>...</td>\n",
       "      <td>...</td>\n",
       "      <td>...</td>\n",
       "      <td>...</td>\n",
       "      <td>...</td>\n",
       "      <td>...</td>\n",
       "      <td>...</td>\n",
       "    </tr>\n",
       "    <tr>\n",
       "      <th>70</th>\n",
       "      <td>Hasaki</td>\n",
       "      <td>JP</td>\n",
       "      <td>24.80</td>\n",
       "      <td>35.73</td>\n",
       "      <td>140.83</td>\n",
       "      <td>few clouds</td>\n",
       "      <td>Inubosaki Kanko Hotel</td>\n",
       "    </tr>\n",
       "    <tr>\n",
       "      <th>71</th>\n",
       "      <td>Morden</td>\n",
       "      <td>CA</td>\n",
       "      <td>23.00</td>\n",
       "      <td>49.19</td>\n",
       "      <td>-98.10</td>\n",
       "      <td>few clouds</td>\n",
       "      <td>Morden Motor Inn</td>\n",
       "    </tr>\n",
       "    <tr>\n",
       "      <th>72</th>\n",
       "      <td>Bismil</td>\n",
       "      <td>TR</td>\n",
       "      <td>23.00</td>\n",
       "      <td>37.85</td>\n",
       "      <td>40.67</td>\n",
       "      <td>scattered clouds</td>\n",
       "      <td>Dostlar Otomotiv</td>\n",
       "    </tr>\n",
       "    <tr>\n",
       "      <th>73</th>\n",
       "      <td>Spearfish</td>\n",
       "      <td>US</td>\n",
       "      <td>30.00</td>\n",
       "      <td>44.49</td>\n",
       "      <td>-103.86</td>\n",
       "      <td>clear sky</td>\n",
       "      <td>Travelodge by Wyndham Spearfish</td>\n",
       "    </tr>\n",
       "    <tr>\n",
       "      <th>74</th>\n",
       "      <td>Qaqortoq</td>\n",
       "      <td>GL</td>\n",
       "      <td>17.60</td>\n",
       "      <td>60.72</td>\n",
       "      <td>-46.03</td>\n",
       "      <td>light snow</td>\n",
       "      <td>Hotel Qaqortoq</td>\n",
       "    </tr>\n",
       "  </tbody>\n",
       "</table>\n",
       "<p>75 rows × 7 columns</p>\n",
       "</div>"
      ],
      "text/plain": [
       "           City Country  Max Temp    Lat     Lng Weather Description  \\\n",
       "0     Fairbanks      US     25.00  64.84 -147.72          light snow   \n",
       "1       Husavik      IS     28.40  66.04  -17.34       broken clouds   \n",
       "2   Yarmolyntsi      UA     30.00  49.19   26.84       broken clouds   \n",
       "3        Kodiak      US     33.80  57.79 -152.41           clear sky   \n",
       "4        Albany      US     33.01  42.60  -73.97     overcast clouds   \n",
       "..          ...     ...       ...    ...     ...                 ...   \n",
       "70       Hasaki      JP     24.80  35.73  140.83          few clouds   \n",
       "71       Morden      CA     23.00  49.19  -98.10          few clouds   \n",
       "72       Bismil      TR     23.00  37.85   40.67    scattered clouds   \n",
       "73    Spearfish      US     30.00  44.49 -103.86           clear sky   \n",
       "74     Qaqortoq      GL     17.60  60.72  -46.03          light snow   \n",
       "\n",
       "                                      Hotel Name  \n",
       "0   Westmark Fairbanks Hotel & Conference Center  \n",
       "1                                      Bjarnabúð  \n",
       "2                                            NaN  \n",
       "3                 Mission Lake Bed and Breakfast  \n",
       "4                                            NaN  \n",
       "..                                           ...  \n",
       "70                         Inubosaki Kanko Hotel  \n",
       "71                              Morden Motor Inn  \n",
       "72                              Dostlar Otomotiv  \n",
       "73               Travelodge by Wyndham Spearfish  \n",
       "74                                Hotel Qaqortoq  \n",
       "\n",
       "[75 rows x 7 columns]"
      ]
     },
     "execution_count": 33,
     "metadata": {},
     "output_type": "execute_result"
    }
   ],
   "source": [
    "itinerary_df"
   ]
  },
  {
   "cell_type": "code",
   "execution_count": 34,
   "metadata": {},
   "outputs": [],
   "source": [
    "#select four cities in close proximity on the map,  create separate DataFrames for each city\n",
    "city1 = itinerary_df[itinerary_df['City']=='Husavik']\n",
    "city1 = pd.DataFrame(city1)\n",
    "city2 = itinerary_df[itinerary_df['City']=='Akureyri']\n",
    "city2 = pd.DataFrame(city2)\n",
    "city3 = itinerary_df[itinerary_df['City']=='Borgarnes']\n",
    "city3 = pd.DataFrame(city3)\n",
    "city4 = itinerary_df[itinerary_df['City']=='Olafsvik']\n",
    "city4 = pd.DataFrame(city4)"
   ]
  },
  {
   "cell_type": "code",
   "execution_count": 35,
   "metadata": {},
   "outputs": [],
   "source": [
    "#Use the list indexing to get the latitude-longitude pairs for each city DataFrame as tuples\n",
    "husavik = list(city1[['Lat', 'Lng']].itertuples(index=False, name=None))\n",
    "akureyri =list(city2[['Lat', 'Lng']].itertuples(index=False, name=None))\n",
    "borgarnes = list(city3[['Lat', 'Lng']].itertuples(index=False, name=None))\n",
    "olafsvik = list(city4[['Lat', 'Lng']].itertuples(index=False, name=None))\n"
   ]
  },
  {
   "cell_type": "code",
   "execution_count": 40,
   "metadata": {},
   "outputs": [
    {
     "data": {
      "application/vnd.jupyter.widget-view+json": {
       "model_id": "be11ac4b22fd44178150f1dabcc3ad52",
       "version_major": 2,
       "version_minor": 0
      },
      "text/plain": [
       "Figure(layout=FigureLayout(height='420px'))"
      ]
     },
     "metadata": {},
     "output_type": "display_data"
    }
   ],
   "source": [
    "husavik = (66.04, -17.34)\n",
    "akureyri = (65.68, -18.09)\n",
    "borgarnes = (64.54, -21.92)\n",
    "olafsvik = (64.89, -23.71)\n",
    "#Create a marker layer map for the four cities\n",
    "fig = gmaps.figure()\n",
    "icetrip = gmaps.directions_layer(\n",
    "        husavik, akureyri, waypoints=[borgarnes, olafsvik], travel_mode = 'DRIVING')\n",
    "fig.add_layer(icetrip)\n",
    "fig"
   ]
  },
  {
   "cell_type": "code",
   "execution_count": 37,
   "metadata": {},
   "outputs": [
    {
     "data": {
      "text/html": [
       "<div>\n",
       "<style scoped>\n",
       "    .dataframe tbody tr th:only-of-type {\n",
       "        vertical-align: middle;\n",
       "    }\n",
       "\n",
       "    .dataframe tbody tr th {\n",
       "        vertical-align: top;\n",
       "    }\n",
       "\n",
       "    .dataframe thead th {\n",
       "        text-align: right;\n",
       "    }\n",
       "</style>\n",
       "<table border=\"1\" class=\"dataframe\">\n",
       "  <thead>\n",
       "    <tr style=\"text-align: right;\">\n",
       "      <th></th>\n",
       "      <th>City</th>\n",
       "      <th>Country</th>\n",
       "      <th>Max Temp</th>\n",
       "      <th>Lat</th>\n",
       "      <th>Lng</th>\n",
       "      <th>Weather Description</th>\n",
       "      <th>Hotel Name</th>\n",
       "    </tr>\n",
       "  </thead>\n",
       "  <tbody>\n",
       "    <tr>\n",
       "      <th>1</th>\n",
       "      <td>Husavik</td>\n",
       "      <td>IS</td>\n",
       "      <td>28.40</td>\n",
       "      <td>66.04</td>\n",
       "      <td>-17.34</td>\n",
       "      <td>broken clouds</td>\n",
       "      <td>Bjarnabúð</td>\n",
       "    </tr>\n",
       "    <tr>\n",
       "      <th>16</th>\n",
       "      <td>Akureyri</td>\n",
       "      <td>IS</td>\n",
       "      <td>28.40</td>\n",
       "      <td>65.68</td>\n",
       "      <td>-18.09</td>\n",
       "      <td>broken clouds</td>\n",
       "      <td>Icelandair Hotel Akureyri</td>\n",
       "    </tr>\n",
       "    <tr>\n",
       "      <th>32</th>\n",
       "      <td>Borgarnes</td>\n",
       "      <td>IS</td>\n",
       "      <td>27.00</td>\n",
       "      <td>64.54</td>\n",
       "      <td>-21.92</td>\n",
       "      <td>clear sky</td>\n",
       "      <td>Hotel Hafnarfjall</td>\n",
       "    </tr>\n",
       "    <tr>\n",
       "      <th>38</th>\n",
       "      <td>Olafsvik</td>\n",
       "      <td>IS</td>\n",
       "      <td>26.22</td>\n",
       "      <td>64.89</td>\n",
       "      <td>-23.71</td>\n",
       "      <td>overcast clouds</td>\n",
       "      <td>Hotel Olafsvik</td>\n",
       "    </tr>\n",
       "  </tbody>\n",
       "</table>\n",
       "</div>"
      ],
      "text/plain": [
       "         City Country  Max Temp    Lat    Lng Weather Description  \\\n",
       "1     Husavik      IS     28.40  66.04 -17.34       broken clouds   \n",
       "16   Akureyri      IS     28.40  65.68 -18.09       broken clouds   \n",
       "32  Borgarnes      IS     27.00  64.54 -21.92           clear sky   \n",
       "38   Olafsvik      IS     26.22  64.89 -23.71     overcast clouds   \n",
       "\n",
       "                   Hotel Name  \n",
       "1                   Bjarnabúð  \n",
       "16  Icelandair Hotel Akureyri  \n",
       "32          Hotel Hafnarfjall  \n",
       "38             Hotel Olafsvik  "
      ]
     },
     "execution_count": 37,
     "metadata": {},
     "output_type": "execute_result"
    }
   ],
   "source": [
    "#Create a new DataFrame that has all the individual city DataFrames \n",
    "cities_df = pd.concat([city1, city2, city3, city4], axis=0)\n",
    "cities_df"
   ]
  },
  {
   "cell_type": "code",
   "execution_count": 38,
   "metadata": {},
   "outputs": [],
   "source": [
    "#create a pop-up marker\n",
    "info_box_template = \"\"\"\n",
    "<dl>\n",
    "<dt>Hotel Name</dt><dd>{Hotel Name}</dd>\n",
    "<dt>City</dt><dd>{City}</dd>\n",
    "<dt>Country</dt><dd>{Country}</dd>\n",
    "<dt>Current Weather</dt><dd>{Weather Description}</dd>\n",
    "<dt>Max Temp</dt><dd>{Max Temp} °F</dd>\n",
    "</dl>\n",
    "\"\"\"\n",
    "\n",
    "hotel_info = [info_box_template.format(**row) for index, row in cities_df.iterrows()]"
   ]
  },
  {
   "cell_type": "code",
   "execution_count": 39,
   "metadata": {},
   "outputs": [
    {
     "data": {
      "application/vnd.jupyter.widget-view+json": {
       "model_id": "2643d7cc582b46438f7a28719fdf9a3b",
       "version_major": 2,
       "version_minor": 0
      },
      "text/plain": [
       "Figure(layout=FigureLayout(height='420px'))"
      ]
     },
     "metadata": {},
     "output_type": "display_data"
    }
   ],
   "source": [
    "locations = cities_df[[\"Lat\", \"Lng\"]]\n",
    "max_temp = cities_df[\"Max Temp\"]\n",
    "weather_desc = cities_df[\"Weather Description\"]\n",
    "fig = gmaps.figure(center=(30.0, 31.0), zoom_level=1.5)\n",
    "heat_layer = gmaps.heatmap_layer(locations, weights=max_temp, dissipating=False,\n",
    "             max_intensity=300, point_radius=4)\n",
    "\n",
    "marker_layer = gmaps.marker_layer(locations, info_box_content=hotel_info)\n",
    "fig.add_layer(heat_layer)\n",
    "fig.add_layer(marker_layer)\n",
    "fig"
   ]
  },
  {
   "cell_type": "code",
   "execution_count": null,
   "metadata": {},
   "outputs": [],
   "source": []
  }
 ],
 "metadata": {
  "kernelspec": {
   "display_name": "PythonData",
   "language": "python",
   "name": "pythondata"
  },
  "language_info": {
   "codemirror_mode": {
    "name": "ipython",
    "version": 3
   },
   "file_extension": ".py",
   "mimetype": "text/x-python",
   "name": "python",
   "nbconvert_exporter": "python",
   "pygments_lexer": "ipython3",
   "version": "3.8.1"
  }
 },
 "nbformat": 4,
 "nbformat_minor": 2
}
